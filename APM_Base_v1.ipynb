{
  "nbformat": 4,
  "nbformat_minor": 0,
  "metadata": {
    "colab": {
      "name": "APM_Base_v1.ipynb",
      "provenance": [],
      "collapsed_sections": [],
      "include_colab_link": true
    },
    "kernelspec": {
      "name": "python3",
      "display_name": "Python 3"
    }
  },
  "cells": [
    {
      "cell_type": "markdown",
      "metadata": {
        "id": "view-in-github",
        "colab_type": "text"
      },
      "source": [
        "<a href=\"https://colab.research.google.com/github/skyler14/ICIAR-histology/blob/master/APM_Base_v1.ipynb\" target=\"_parent\"><img src=\"https://colab.research.google.com/assets/colab-badge.svg\" alt=\"Open In Colab\"/></a>"
      ]
    },
    {
      "cell_type": "markdown",
      "metadata": {
        "id": "0dOrUyZ9JOfe",
        "colab_type": "text"
      },
      "source": [
        "Version 1 - Base Code to Setup Environment Space on Collab"
      ]
    },
    {
      "cell_type": "code",
      "metadata": {
        "id": "IRn7V37pJX2r",
        "colab_type": "code",
        "colab": {}
      },
      "source": [
        "# Code to read csv file into Colaboratory:\n",
        "!pip install -U -q PyDrive\n",
        "from pydrive.auth import GoogleAuth\n",
        "from pydrive.drive import GoogleDrive\n",
        "from google.colab import auth\n",
        "from oauth2client.client import GoogleCredentials\n",
        "# Authenticate and create the PyDrive client.\n",
        "auth.authenticate_user()\n",
        "gauth = GoogleAuth()\n",
        "gauth.credentials = GoogleCredentials.get_application_default()\n",
        "drive = GoogleDrive(gauth)"
      ],
      "execution_count": 0,
      "outputs": []
    },
    {
      "cell_type": "code",
      "metadata": {
        "id": "JRgBqlQyJehO",
        "colab_type": "code",
        "colab": {}
      },
      "source": [
        "import warnings\n",
        "warnings.filterwarnings(\"ignore\")"
      ],
      "execution_count": 0,
      "outputs": []
    },
    {
      "cell_type": "code",
      "metadata": {
        "id": "yYL3mcSTKFC5",
        "colab_type": "code",
        "colab": {}
      },
      "source": [
        "# installing dependencies\n",
        "import os\n",
        "import pandas as pd\n",
        "import numpy as np\n",
        "import sys\n",
        "import random\n",
        "import math\n",
        "import numpy as np\n",
        "import skimage.io\n",
        "import matplotlib\n",
        "import matplotlib.pyplot as plt\n",
        "import tensorflow as tf"
      ],
      "execution_count": 0,
      "outputs": []
    },
    {
      "cell_type": "code",
      "metadata": {
        "id": "xTmy7Vn7KyVs",
        "colab_type": "code",
        "colab": {}
      },
      "source": [
        "from pathlib import Path\n",
        "TRAIN_IMAGE_DIR = Path('/content/drive/My Drive/Projects/iMaterialist/sample/')\n",
        "ROOT_DIR = Path('/content/')"
      ],
      "execution_count": 0,
      "outputs": []
    },
    {
      "cell_type": "code",
      "metadata": {
        "id": "FUwhDZOFlFJ_",
        "colab_type": "code",
        "colab": {}
      },
      "source": [
        "# # for reference with regards to directory walking\n",
        "# quake_df = pd.DataFrame(columns=['quakename', 'sensor_id', 'max_sensor'])\n",
        "# #print(quake_df)\n",
        "\n",
        "# for paths, dir, files in os.walk('/home/skyler/Downloads/data/csn'):\n",
        "#     #print(dirnames)\n",
        "#     for f in files:\n",
        "#         #print(f)\n",
        "#         filename = os.path.join(paths,f)\n",
        "#         #print(os.path.basename(os.path.dirname(filename)))\n",
        "#         #print(os.path.dirname(filename))\n",
        "#         path = os.path.dirname(filename)\n",
        "#         os.chdir(path)\n",
        "# #       read here\n",
        "\n",
        "    \n",
        "    \n",
        "# #       st = read(f, debug_headers=True)\n",
        "# #       print(max(st[0].data))\n",
        "# #       quake_df=quake_df.append({'quakename': os.path.basename(os.path.dirname(filename)), 'sensor_id': f, 'max_sensor': max(st[0].data)-np.median(st[0].data), 'max_clock': np.argmax(st[0].data),'min_sensor': min(st[0].data,)-np.median(st[0].data), 'min_clock': np.argmin(st[0].data),'Latitude':st[0].stats.sac['stla'],'Longitude':st[0].stats.sac['stlo']}, ignore_index=True)\n",
        " "
      ],
      "execution_count": 0,
      "outputs": []
    }
  ]
}